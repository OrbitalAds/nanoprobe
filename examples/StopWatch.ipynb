{
 "cells": [
  {
   "cell_type": "markdown",
   "metadata": {},
   "source": [
    "# StopWatch\n",
    "\n",
    "## Introduction\n",
    "\n",
    "Ever tried to measure how long does it take for your code to execute?\n",
    "\n",
    "Soon after you start, you find your precious code full of dirty \"prints\" and filthy \"time.time()\" lines.\n",
    "\n",
    "Does it need to be that ugly to quickly time your code?\n",
    "\n",
    "## Fear no more, **StopWatch** is here.\n"
   ]
  },
  {
   "cell_type": "code",
   "execution_count": 2,
   "metadata": {},
   "outputs": [],
   "source": [
    "import time\n",
    "from nanoprobe.cronos import StopWatch\n",
    "\n",
    "s = StopWatch()"
   ]
  },
  {
   "cell_type": "markdown",
   "metadata": {},
   "source": [
    "StopWatch's beauty relies on its simplicity. It works like a real stopwatch would, you start it when you want and you stop it when you desire"
   ]
  },
  {
   "cell_type": "code",
   "execution_count": 3,
   "metadata": {},
   "outputs": [],
   "source": [
    "s.start()\n",
    "time.sleep(2)\n",
    "s.stop()"
   ]
  },
  {
   "cell_type": "markdown",
   "metadata": {},
   "source": [
    "You can check the elapsed time between the two checkpoints like this:"
   ]
  },
  {
   "cell_type": "code",
   "execution_count": 4,
   "metadata": {},
   "outputs": [
    {
     "data": {
      "text/plain": [
       "2.000436782836914"
      ]
     },
     "execution_count": 4,
     "metadata": {},
     "output_type": "execute_result"
    }
   ],
   "source": [
    "s.elapsed_time"
   ]
  },
  {
   "cell_type": "markdown",
   "metadata": {},
   "source": [
    "Well, this wasn't *that* exciting, was it?\n",
    "\n",
    "Bear with me here, cool stuff is about to happen.\n",
    "\n",
    "\n",
    "## Clicks and probes, a love story\n",
    "\n",
    "The most useful feature of StopWatch are *clicks* and *probes*"
   ]
  },
  {
   "cell_type": "code",
   "execution_count": 5,
   "metadata": {},
   "outputs": [
    {
     "name": "stdout",
     "output_type": "stream",
     "text": [
      "TAG\t\t\t ELAPSED TIME\n",
      "---\t\t\t ------------\n",
      "\n",
      "start\t\t 1517676922.395402\n",
      "sleep1\t\t 2.0024006366729736\n",
      "sleep2\t\t 5.005810737609863\n",
      "click-0\t\t 6.007065296173096\n",
      "stop\t\t 1517676928.4025187\n"
     ]
    }
   ],
   "source": [
    "s = StopWatch(autostart=True) #You can start your stopwatch automatically\n",
    "\n",
    "time.sleep(2)\n",
    "s.click(\"sleep1\")\n",
    "time.sleep(3)\n",
    "s.click(\"sleep2\")\n",
    "time.sleep(1)\n",
    "s.click() #Default format goes like 'click-X'\n",
    "s.stop()\n",
    "\n",
    "s.pprint_probes() #\"Pretty\" prints all recorded probes"
   ]
  },
  {
   "cell_type": "markdown",
   "metadata": {},
   "source": [
    "Although this example is pretty self-explanatory lets walk through it together.\n",
    "**Probes** are checkpoints which record the period in seconds from the start of the stopwatch until that exact moment.\n",
    "\n",
    "You can record probes calling the **click** method, which creates a probe and identifies it with a tag you can define.\n",
    "\n",
    "If you don't feel like defining anything fine! Leave it blank! StopWatch will create a default tag for you.\n",
    "\n",
    "As you can see, *start* and *stop* probes are a little bit different as they don't save any elapsed time, they store the time they were called."
   ]
  },
  {
   "cell_type": "markdown",
   "metadata": {},
   "source": [
    "## Tag like a champ with custom tags\n",
    "\n",
    "Did you ever find yourself declaring a variable and appending it to the stopwatch' click function?"
   ]
  },
  {
   "cell_type": "code",
   "execution_count": 6,
   "metadata": {},
   "outputs": [
    {
     "name": "stdout",
     "output_type": "stream",
     "text": [
      "TAG\t\t\t ELAPSED TIME\n",
      "---\t\t\t ------------\n",
      "\n",
      "start\t\t 1517676928.412549\n",
      "For-0\t\t 0.0008337497711181641\n"
     ]
    }
   ],
   "source": [
    "s = StopWatch(autostart=True)\n",
    "\n",
    "i = 0\n",
    "for a in range(100): #You could use the 'a' variable here, but come on, im trying to explain something here!\n",
    "    o = 2 ** 3\n",
    "    s.click(\"For-{}\".format(i))\n",
    "s.pprint_probes()\n"
   ]
  },
  {
   "cell_type": "markdown",
   "metadata": {},
   "source": [
    "God damn that was ugly. Let's not do that anymore.\n",
    "\n",
    "To solve this, StopWatch supports the so-called **custom tags**.\n",
    "\n",
    "### Let me show you an example and you'll see for yourself!\n"
   ]
  },
  {
   "cell_type": "code",
   "execution_count": 7,
   "metadata": {},
   "outputs": [
    {
     "name": "stdout",
     "output_type": "stream",
     "text": [
      "TAG\t\t\t ELAPSED TIME\n",
      "---\t\t\t ------------\n",
      "\n",
      "start\t\t 1517676928.4698222\n",
      "For-0\t\t 7.414817810058594e-05\n",
      "For-1\t\t 9.918212890625e-05\n",
      "For-2\t\t 0.00010752677917480469\n",
      "For-3\t\t 0.00011491775512695312\n",
      "For-4\t\t 0.0001220703125\n",
      "For-5\t\t 0.00012993812561035156\n",
      "For-6\t\t 0.00013685226440429688\n",
      "For-7\t\t 0.00014352798461914062\n",
      "For-8\t\t 0.0001499652862548828\n",
      "For-9\t\t 0.00015664100646972656\n"
     ]
    }
   ],
   "source": [
    "s = StopWatch(autostart=True)\n",
    "\n",
    "for _ in range(10):\n",
    "    o = 2 ** 3\n",
    "    s.click(\"For-{{for1}}\")\n",
    "s.pprint_probes()"
   ]
  },
  {
   "cell_type": "markdown",
   "metadata": {},
   "source": [
    "That was refreshing!\n",
    "\n",
    "The thing about **custom tags** is that you can stack as many as your heart can handle"
   ]
  },
  {
   "cell_type": "code",
   "execution_count": 8,
   "metadata": {},
   "outputs": [
    {
     "name": "stdout",
     "output_type": "stream",
     "text": [
      "TAG\t\t\t ELAPSED TIME\n",
      "---\t\t\t ------------\n",
      "\n",
      "start\t\t 1517676928.5285013\n",
      "For 0 - 0\t\t 0.00011348724365234375\n",
      "1\t\t 0.00023865699768066406\n",
      "2 - 1\t\t 0.0003371238708496094\n"
     ]
    }
   ],
   "source": [
    "s = StopWatch(autostart=True)\n",
    "\n",
    "s.click(\"For {{a}} - {{b}}\")\n",
    "s.click(\"{{a}}\")\n",
    "s.click(\"{{a}} - {{b}}\")\n",
    "\n",
    "s.pprint_probes()\n"
   ]
  },
  {
   "cell_type": "markdown",
   "metadata": {},
   "source": [
    "If for some reason you want a custom tag to not autoincrement at a certain time you can use non-incremental custom tags (I know, good naming skills right there)"
   ]
  },
  {
   "cell_type": "code",
   "execution_count": 11,
   "metadata": {},
   "outputs": [
    {
     "name": "stdout",
     "output_type": "stream",
     "text": [
      "TAG\t\t\t ELAPSED TIME\n",
      "---\t\t\t ------------\n",
      "\n",
      "start\t\t 1517676952.0354574\n",
      "Reached for 0\t\t 0.00011873245239257812\n",
      "Reached for 0 inside for 1\t\t 0.000148773193359375\n",
      "Reached for 1 inside for 1\t\t 0.0001647472381591797\n",
      "Reached for 2 inside for 1\t\t 0.00017786026000976562\n",
      "Reached for 3 inside for 1\t\t 0.00018930435180664062\n",
      "Reached for 4 inside for 1\t\t 0.00020241737365722656\n",
      "Reached for 1\t\t 0.00021314620971679688\n",
      "Reached for 5 inside for 2\t\t 0.00022220611572265625\n",
      "Reached for 6 inside for 2\t\t 0.00023317337036132812\n",
      "Reached for 7 inside for 2\t\t 0.00024366378784179688\n",
      "Reached for 8 inside for 2\t\t 0.0002543926239013672\n",
      "Reached for 9 inside for 2\t\t 0.00026798248291015625\n"
     ]
    }
   ],
   "source": [
    "s = StopWatch(autostart=True)\n",
    "for _ in range(2):\n",
    "    s.click(\"Reached for {{a}}\")\n",
    "    for _ in range(5):\n",
    "        s.click(\"Reached for {{b}} inside for {a}\") #Notice how {a} is not supposed to increment on each iteration\n",
    "s.pprint_probes()"
   ]
  },
  {
   "cell_type": "markdown",
   "metadata": {},
   "source": [
    "## Save data from a StopWatch\n",
    "\n",
    "You can save the data in a CSV format easily"
   ]
  },
  {
   "cell_type": "code",
   "execution_count": 10,
   "metadata": {},
   "outputs": [
    {
     "data": {
      "text/plain": [
       "'Tag,Elapsed Time\\r\\nstart,1517676928.5897844\\r\\nReached for 0,0.00017452239990234375\\r\\nReached for 0 inside for 1,0.0002181529998779297\\r\\nReached for 1 inside for 1,0.00024962425231933594\\r\\nReached for 2 inside for 1,0.00027561187744140625\\r\\nReached for 3 inside for 1,0.00030112266540527344\\r\\nReached for 4 inside for 1,0.0003294944763183594\\r\\nReached for 1,0.0003559589385986328\\r\\nReached for 5 inside for 2,0.0003764629364013672\\r\\nReached for 6 inside for 2,0.0004038810729980469\\r\\nReached for 7 inside for 2,0.00042891502380371094\\r\\nReached for 8 inside for 2,0.0004534721374511719\\r\\nReached for 9 inside for 2,0.0004799365997314453\\r\\n'"
      ]
     },
     "execution_count": 10,
     "metadata": {},
     "output_type": "execute_result"
    }
   ],
   "source": [
    "s.csv_dump(\"cronos_example.csv\") #Saves to a file\n",
    "s.csv_dumps() #Gets csv info in string format"
   ]
  },
  {
   "cell_type": "code",
   "execution_count": null,
   "metadata": {},
   "outputs": [],
   "source": []
  }
 ],
 "metadata": {
  "kernelspec": {
   "display_name": "Python 3",
   "language": "python",
   "name": "python3"
  },
  "language_info": {
   "codemirror_mode": {
    "name": "ipython",
    "version": 3
   },
   "file_extension": ".py",
   "mimetype": "text/x-python",
   "name": "python",
   "nbconvert_exporter": "python",
   "pygments_lexer": "ipython3",
   "version": "3.5.2"
  }
 },
 "nbformat": 4,
 "nbformat_minor": 2
}
