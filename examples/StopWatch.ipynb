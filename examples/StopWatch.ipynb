{
 "cells": [
  {
   "cell_type": "markdown",
   "metadata": {},
   "source": [
    "# StopWatch\n",
    "\n",
    "## Introduction\n",
    "\n",
    "Ever tried to measure how long does it take for your code to execute?\n",
    "\n",
    "Soon after you start, you find your precious code full of dirty \"prints\" and filthy \"time.time()\" lines.\n",
    "\n",
    "Does it need to be that ugly to quickly time your code?\n",
    "\n",
    "## Fear no more, **StopWatch** is here.\n"
   ]
  },
  {
   "cell_type": "code",
   "execution_count": 1,
   "metadata": {},
   "outputs": [],
   "source": [
    "import time\n",
    "from nanoprobe.cronos import StopWatch\n",
    "\n",
    "s = StopWatch()"
   ]
  },
  {
   "cell_type": "markdown",
   "metadata": {},
   "source": [
    "StopWatch's beauty relies on its simplicity. It works like a real stopwatch would, you start it when you want and you stop it when you desire"
   ]
  },
  {
   "cell_type": "code",
   "execution_count": 2,
   "metadata": {},
   "outputs": [],
   "source": [
    "s.start()\n",
    "time.sleep(2)\n",
    "s.stop()"
   ]
  },
  {
   "cell_type": "markdown",
   "metadata": {},
   "source": [
    "You can check the elapsed time between the two checkpoints like this:"
   ]
  },
  {
   "cell_type": "code",
   "execution_count": 3,
   "metadata": {},
   "outputs": [
    {
     "data": {
      "text/plain": [
       "2.0025758743286133"
      ]
     },
     "execution_count": 3,
     "metadata": {},
     "output_type": "execute_result"
    }
   ],
   "source": [
    "s.elapsed_time"
   ]
  },
  {
   "cell_type": "markdown",
   "metadata": {},
   "source": [
    "Well, this wasn't *that* exciting, was it?\n",
    "\n",
    "Bear with me here, cool stuff is about to happen.\n",
    "\n",
    "\n",
    "## Clicks and probes, a love story\n",
    "\n",
    "The most useful feature of StopWatch are *clicks* and *probes*"
   ]
  },
  {
   "cell_type": "code",
   "execution_count": 4,
   "metadata": {},
   "outputs": [
    {
     "name": "stdout",
     "output_type": "stream",
     "text": [
      "TAG\t\t\t ELAPSED TIME\n",
      "---\t\t\t ------------\n",
      "\n",
      "start\t\t 1517443236.0884542\n",
      "sleep1\t\t 2.002650499343872\n",
      "sleep2\t\t 5.005329370498657\n",
      "click-0\t\t 6.006509780883789\n",
      "stop\t\t 1517443242.0950139\n"
     ]
    }
   ],
   "source": [
    "s = StopWatch(autostart=True) #You can start your stopwatch automatically\n",
    "\n",
    "time.sleep(2)\n",
    "s.click(\"sleep1\")\n",
    "time.sleep(3)\n",
    "s.click(\"sleep2\")\n",
    "time.sleep(1)\n",
    "s.click() #Default format goes like 'click-X'\n",
    "s.stop()\n",
    "\n",
    "s.pprint_probes() #\"Pretty\" prints all recorded probes"
   ]
  },
  {
   "cell_type": "markdown",
   "metadata": {},
   "source": [
    "Although this example is pretty self-explanatory lets walk through it together.\n",
    "**Probes** are checkpoints which record the period in seconds from the start of the stopwatch until that exact moment.\n",
    "\n",
    "You can record probes calling the **click** method, which creates a probe and identifies it with a tag you can define.\n",
    "\n",
    "If you don't feel like defining anything fine! Leave it blank! StopWatch will create a default tag for you.\n",
    "\n",
    "As you can see, *start* and *stop* probes are a little bit different as they don't save any elapsed time, they store the time they were called."
   ]
  },
  {
   "cell_type": "markdown",
   "metadata": {},
   "source": [
    "## Tag like a champ with custom tags\n",
    "\n",
    "Did you ever find yourself declaring a variable and appending it to the stopwatch' click function?"
   ]
  },
  {
   "cell_type": "code",
   "execution_count": 7,
   "metadata": {},
   "outputs": [
    {
     "name": "stdout",
     "output_type": "stream",
     "text": [
      "TAG\t\t\t ELAPSED TIME\n",
      "---\t\t\t ------------\n",
      "\n",
      "start\t\t 1517443257.183013\n",
      "For-0\t\t 0.00044846534729003906\n"
     ]
    }
   ],
   "source": [
    "s = StopWatch(autostart=True)\n",
    "\n",
    "i = 0\n",
    "for a in range(100): #You could use the 'a' variable here, but come on, im trying to explain something here!\n",
    "    o = 2 ** 3\n",
    "    s.click(\"For-{}\".format(i))\n",
    "s.pprint_probes()\n"
   ]
  },
  {
   "cell_type": "markdown",
   "metadata": {},
   "source": [
    "God damn that was ugly. Let's not do that anymore.\n",
    "\n",
    "To solve this, StopWatch supports the so-called **custom tags**.\n",
    "\n",
    "### Let me show you an example and you'll see for yourself!\n"
   ]
  },
  {
   "cell_type": "code",
   "execution_count": 9,
   "metadata": {},
   "outputs": [
    {
     "name": "stdout",
     "output_type": "stream",
     "text": [
      "TAG\t\t\t ELAPSED TIME\n",
      "---\t\t\t ------------\n",
      "\n",
      "start\t\t 1517443558.482237\n",
      "For-0\t\t 8.535385131835938e-05\n",
      "For-1\t\t 0.00010132789611816406\n",
      "For-2\t\t 0.00010991096496582031\n",
      "For-3\t\t 0.00011777877807617188\n",
      "For-4\t\t 0.0001251697540283203\n",
      "For-5\t\t 0.00013375282287597656\n",
      "For-6\t\t 0.000141143798828125\n",
      "For-7\t\t 0.000148773193359375\n",
      "For-8\t\t 0.00015616416931152344\n",
      "For-9\t\t 0.00016307830810546875\n"
     ]
    }
   ],
   "source": [
    "s = StopWatch(autostart=True)\n",
    "\n",
    "for _ in range(10):\n",
    "    o = 2 ** 3\n",
    "    s.click(\"For-{{for1}}\")\n",
    "s.pprint_probes()"
   ]
  },
  {
   "cell_type": "markdown",
   "metadata": {},
   "source": [
    "That was refreshing!\n",
    "\n",
    "The thing about **custom tags** is that you can stack as many as your heart can handle"
   ]
  },
  {
   "cell_type": "code",
   "execution_count": 10,
   "metadata": {},
   "outputs": [
    {
     "name": "stdout",
     "output_type": "stream",
     "text": [
      "TAG\t\t\t ELAPSED TIME\n",
      "---\t\t\t ------------\n",
      "\n",
      "start\t\t 1517443925.693747\n",
      "For 0 - 0\t\t 4.1484832763671875e-05\n",
      "1\t\t 8.7738037109375e-05\n",
      "2 - 1\t\t 0.00012373924255371094\n"
     ]
    }
   ],
   "source": [
    "s = StopWatch(autostart=True)\n",
    "\n",
    "s.click(\"For {{a}} - {{b}}\")\n",
    "s.click(\"{{a}}\")\n",
    "s.click(\"{{a}} - {{b}}\")\n",
    "\n",
    "s.pprint_probes()\n"
   ]
  },
  {
   "cell_type": "markdown",
   "metadata": {},
   "source": [
    "In the near function StopWatch will support not-autoincremental custom tags, so stay tuned!\n",
    "\n",
    "PD: I mean something like this:"
   ]
  },
  {
   "cell_type": "code",
   "execution_count": 11,
   "metadata": {},
   "outputs": [],
   "source": [
    "s = StopWatch(autostart=True)\n",
    "for _ in range(2):\n",
    "    s.click(\"Reached for {{a}}\")\n",
    "    for _ in range(5):\n",
    "        s.click(\"Reached for {{b}} inside for {a}\") #You notice how {a} is not supposed to increment on each iteration"
   ]
  },
  {
   "cell_type": "markdown",
   "metadata": {},
   "source": [
    "## Save data from a StopWatch\n",
    "\n",
    "You can save the data in a CSV format easily"
   ]
  },
  {
   "cell_type": "code",
   "execution_count": 12,
   "metadata": {},
   "outputs": [
    {
     "data": {
      "text/plain": [
       "'Tag,Elapsed Time\\r\\nstart,1517444174.6171036\\r\\nReached for 0,7.700920104980469e-05\\r\\nReached for 0 inside for {a},9.298324584960938e-05\\r\\nReached for 1 inside for {a},0.00010061264038085938\\r\\nReached for 2 inside for {a},0.00010728836059570312\\r\\nReached for 3 inside for {a},0.00011396408081054688\\r\\nReached for 4 inside for {a},0.00012135505676269531\\r\\nReached for 1,0.0001277923583984375\\r\\nReached for 5 inside for {a},0.00013446807861328125\\r\\nReached for 6 inside for {a},0.00014066696166992188\\r\\nReached for 7 inside for {a},0.00014638900756835938\\r\\nReached for 8 inside for {a},0.00015211105346679688\\r\\nReached for 9 inside for {a},0.00015878677368164062\\r\\n'"
      ]
     },
     "execution_count": 12,
     "metadata": {},
     "output_type": "execute_result"
    }
   ],
   "source": [
    "s.csv_dump(\"cronos_example.csv\") #Saves to a file\n",
    "s.csv_dumps() #Gets csv info in string format"
   ]
  },
  {
   "cell_type": "code",
   "execution_count": null,
   "metadata": {},
   "outputs": [],
   "source": []
  }
 ],
 "metadata": {
  "kernelspec": {
   "display_name": "Python 3",
   "language": "python",
   "name": "python3"
  },
  "language_info": {
   "codemirror_mode": {
    "name": "ipython",
    "version": 3
   },
   "file_extension": ".py",
   "mimetype": "text/x-python",
   "name": "python",
   "nbconvert_exporter": "python",
   "pygments_lexer": "ipython3",
   "version": "3.5.2"
  }
 },
 "nbformat": 4,
 "nbformat_minor": 2
}
