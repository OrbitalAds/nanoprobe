{
 "cells": [
  {
   "cell_type": "markdown",
   "metadata": {},
   "source": [
    "# StopWatch\n",
    "\n",
    "## Introduction\n",
    "\n",
    "Ever tried to measure how long does it take for your code to execute?\n",
    "\n",
    "Soon after you start, you find your precious code full of dirty \"prints\" and filthy \"time.time()\" lines.\n",
    "\n",
    "Does it need to be that ugly to quickly time your code?\n",
    "\n",
    "## Fear no more, **StopWatch** is here.\n"
   ]
  },
  {
   "cell_type": "code",
   "execution_count": 2,
   "metadata": {},
   "outputs": [],
   "source": [
    "import time\n",
    "from nanoprobe.cronos import StopWatch\n",
    "\n",
    "s = StopWatch()"
   ]
  },
  {
   "cell_type": "markdown",
   "metadata": {},
   "source": [
    "StopWatch's beauty relies on its simplicity. It works like a real stopwatch would, you start it when you want and you stop it when you desire"
   ]
  },
  {
   "cell_type": "code",
   "execution_count": 3,
   "metadata": {},
   "outputs": [],
   "source": [
    "s.start()\n",
    "time.sleep(2)\n",
    "s.stop()"
   ]
  },
  {
   "cell_type": "markdown",
   "metadata": {},
   "source": [
    "You can check the elapsed time between the two checkpoints like this:"
   ]
  },
  {
   "cell_type": "code",
   "execution_count": 4,
   "metadata": {},
   "outputs": [
    {
     "data": {
      "text/plain": [
       "2.0003139972686768"
      ]
     },
     "execution_count": 4,
     "metadata": {},
     "output_type": "execute_result"
    }
   ],
   "source": [
    "s.elapsed_time"
   ]
  },
  {
   "cell_type": "markdown",
   "metadata": {},
   "source": [
    "Well, this wasn't *that* exciting, was it?\n",
    "\n",
    "Bear with me here, cool stuff is about to happen.\n",
    "\n",
    "\n",
    "## Clicks and probes, a love story\n",
    "\n",
    "The most useful feature of StopWatch are *clicks* and *probes*"
   ]
  },
  {
   "cell_type": "code",
   "execution_count": 6,
   "metadata": {},
   "outputs": [
    {
     "name": "stdout",
     "output_type": "stream",
     "text": [
      "TAG\t\t\t ELAPSED TIME\n",
      "---\t\t\t ------------\n",
      "\n",
      "start\t\t 1517224953.4572911\n",
      "sleep1\t\t 2.0003528594970703\n",
      "sleep2\t\t 5.0048558712005615\n",
      "click-0\t\t 6.010403871536255\n",
      "stop\t\t 1517224959.467784\n"
     ]
    }
   ],
   "source": [
    "s = StopWatch(autostart=True) #You can start your stopwatch automatically\n",
    "\n",
    "time.sleep(2)\n",
    "s.click(\"sleep1\")\n",
    "time.sleep(3)\n",
    "s.click(\"sleep2\")\n",
    "time.sleep(1)\n",
    "s.click() #Default format goes like 'click-X'\n",
    "s.stop()\n",
    "\n",
    "s.pprint_probes() #\"Pretty\" prints all recorded probes"
   ]
  },
  {
   "cell_type": "markdown",
   "metadata": {},
   "source": [
    "Although this example is pretty self-explanatory lets walk through it together.\n",
    "**Probes** are checkpoints which record the period in seconds from the start of the stopwatch until that exact moment.\n",
    "\n",
    "You can record probes calling the **click** method, which creates a probe and identifies it with a tag you can define.\n",
    "\n",
    "If you don't feel like defining anything fine! Leave it blank! StopWatch will create a default tag for you.\n",
    "\n",
    "As you can see, *start* and *stop* probes are a little bit different as they don't save any elapsed time, they store the time they were called."
   ]
  },
  {
   "cell_type": "markdown",
   "metadata": {},
   "source": [
    "## Save data from a StopWatch\n",
    "\n",
    "You can save the data in a CSV format easily"
   ]
  },
  {
   "cell_type": "code",
   "execution_count": 7,
   "metadata": {},
   "outputs": [
    {
     "data": {
      "text/plain": [
       "'Tag,Elapsed Time\\r\\nstart,1517224953.4572911\\r\\nsleep1,2.0003528594970703\\r\\nsleep2,5.0048558712005615\\r\\nclick-0,6.010403871536255\\r\\nstop,1517224959.467784\\r\\n'"
      ]
     },
     "execution_count": 7,
     "metadata": {},
     "output_type": "execute_result"
    }
   ],
   "source": [
    "s.csv_dump(\"cronos_example.csv\") #Saves to a file\n",
    "s.csv_dumps() #Gets csv info in string format"
   ]
  },
  {
   "cell_type": "code",
   "execution_count": null,
   "metadata": {},
   "outputs": [],
   "source": []
  }
 ],
 "metadata": {
  "kernelspec": {
   "display_name": "Python 3",
   "language": "python",
   "name": "python3"
  },
  "language_info": {
   "codemirror_mode": {
    "name": "ipython",
    "version": 3
   },
   "file_extension": ".py",
   "mimetype": "text/x-python",
   "name": "python",
   "nbconvert_exporter": "python",
   "pygments_lexer": "ipython3",
   "version": "3.6.4"
  }
 },
 "nbformat": 4,
 "nbformat_minor": 2
}
